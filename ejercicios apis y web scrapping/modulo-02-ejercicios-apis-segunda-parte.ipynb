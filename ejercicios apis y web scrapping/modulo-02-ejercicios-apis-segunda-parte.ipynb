{
 "cells": [
  {
   "cell_type": "markdown",
   "metadata": {},
   "source": [
    "- Extrae información de todos los partidos jugados, en concreto deberás sacar la información del nombre del equipo local, nombre del equipo visitante, puntos del equipo local y del visitante y la temporada a la que pertenece el partido. Para eso tendrás que usar el siguiente endpoint: `https://api.balldontlie.io/v1/teams`. Extrae la información de 200 partidos. Devuelve los resultados en un DataFrame. Te deberá quedar algo parecido a esto: \n",
    "\n",
    "        ![partidos](https://github.com/Adalab/data_imagenes/blob/main/Modulo-2/api's_clase_invertida_partidos.png?raw=true)"
   ]
  },
  {
   "cell_type": "markdown",
   "metadata": {
    "vscode": {
     "languageId": "plaintext"
    }
   },
   "source": [
    "200 partidos:\n",
    "\n",
    "    equipo_local\n",
    "    equipo_visitante\n",
    "    puntos_local\n",
    "    puntos_visitante\n",
    "    temporada\n"
   ]
  },
  {
   "cell_type": "code",
   "execution_count": 9,
   "metadata": {},
   "outputs": [
    {
     "name": "stdout",
     "output_type": "stream",
     "text": [
      "200\n",
      "{'data': [{'id': 1, 'conference': 'East', 'division': 'Southeast', 'city': 'Atlanta', 'name': 'Hawks', 'full_name': 'Atlanta Hawks', 'abbreviation': 'ATL'}, {'id': 2, 'conference': 'East', 'division': 'Atlantic', 'city': 'Boston', 'name': 'Celtics', 'full_name': 'Boston Celtics', 'abbreviation': 'BOS'}, {'id': 3, 'conference': 'East', 'division': 'Atlantic', 'city': 'Brooklyn', 'name': 'Nets', 'full_name': 'Brooklyn Nets', 'abbreviation': 'BKN'}, {'id': 4, 'conference': 'East', 'division': 'Southeast', 'city': 'Charlotte', 'name': 'Hornets', 'full_name': 'Charlotte Hornets', 'abbreviation': 'CHA'}, {'id': 5, 'conference': 'East', 'division': 'Central', 'city': 'Chicago', 'name': 'Bulls', 'full_name': 'Chicago Bulls', 'abbreviation': 'CHI'}, {'id': 6, 'conference': 'East', 'division': 'Central', 'city': 'Cleveland', 'name': 'Cavaliers', 'full_name': 'Cleveland Cavaliers', 'abbreviation': 'CLE'}, {'id': 7, 'conference': 'West', 'division': 'Southwest', 'city': 'Dallas', 'name': 'Mavericks', 'full_name': 'Dallas Mavericks', 'abbreviation': 'DAL'}, {'id': 8, 'conference': 'West', 'division': 'Northwest', 'city': 'Denver', 'name': 'Nuggets', 'full_name': 'Denver Nuggets', 'abbreviation': 'DEN'}, {'id': 9, 'conference': 'East', 'division': 'Central', 'city': 'Detroit', 'name': 'Pistons', 'full_name': 'Detroit Pistons', 'abbreviation': 'DET'}, {'id': 10, 'conference': 'West', 'division': 'Pacific', 'city': 'Golden State', 'name': 'Warriors', 'full_name': 'Golden State Warriors', 'abbreviation': 'GSW'}, {'id': 11, 'conference': 'West', 'division': 'Southwest', 'city': 'Houston', 'name': 'Rockets', 'full_name': 'Houston Rockets', 'abbreviation': 'HOU'}, {'id': 12, 'conference': 'East', 'division': 'Central', 'city': 'Indiana', 'name': 'Pacers', 'full_name': 'Indiana Pacers', 'abbreviation': 'IND'}, {'id': 13, 'conference': 'West', 'division': 'Pacific', 'city': 'LA', 'name': 'Clippers', 'full_name': 'LA Clippers', 'abbreviation': 'LAC'}, {'id': 14, 'conference': 'West', 'division': 'Pacific', 'city': 'Los Angeles', 'name': 'Lakers', 'full_name': 'Los Angeles Lakers', 'abbreviation': 'LAL'}, {'id': 15, 'conference': 'West', 'division': 'Southwest', 'city': 'Memphis', 'name': 'Grizzlies', 'full_name': 'Memphis Grizzlies', 'abbreviation': 'MEM'}, {'id': 16, 'conference': 'East', 'division': 'Southeast', 'city': 'Miami', 'name': 'Heat', 'full_name': 'Miami Heat', 'abbreviation': 'MIA'}, {'id': 17, 'conference': 'East', 'division': 'Central', 'city': 'Milwaukee', 'name': 'Bucks', 'full_name': 'Milwaukee Bucks', 'abbreviation': 'MIL'}, {'id': 18, 'conference': 'West', 'division': 'Northwest', 'city': 'Minnesota', 'name': 'Timberwolves', 'full_name': 'Minnesota Timberwolves', 'abbreviation': 'MIN'}, {'id': 19, 'conference': 'West', 'division': 'Southwest', 'city': 'New Orleans', 'name': 'Pelicans', 'full_name': 'New Orleans Pelicans', 'abbreviation': 'NOP'}, {'id': 20, 'conference': 'East', 'division': 'Atlantic', 'city': 'New York', 'name': 'Knicks', 'full_name': 'New York Knicks', 'abbreviation': 'NYK'}, {'id': 21, 'conference': 'West', 'division': 'Northwest', 'city': 'Oklahoma City', 'name': 'Thunder', 'full_name': 'Oklahoma City Thunder', 'abbreviation': 'OKC'}, {'id': 22, 'conference': 'East', 'division': 'Southeast', 'city': 'Orlando', 'name': 'Magic', 'full_name': 'Orlando Magic', 'abbreviation': 'ORL'}, {'id': 23, 'conference': 'East', 'division': 'Atlantic', 'city': 'Philadelphia', 'name': '76ers', 'full_name': 'Philadelphia 76ers', 'abbreviation': 'PHI'}, {'id': 24, 'conference': 'West', 'division': 'Pacific', 'city': 'Phoenix', 'name': 'Suns', 'full_name': 'Phoenix Suns', 'abbreviation': 'PHX'}, {'id': 25, 'conference': 'West', 'division': 'Northwest', 'city': 'Portland', 'name': 'Trail Blazers', 'full_name': 'Portland Trail Blazers', 'abbreviation': 'POR'}, {'id': 26, 'conference': 'West', 'division': 'Pacific', 'city': 'Sacramento', 'name': 'Kings', 'full_name': 'Sacramento Kings', 'abbreviation': 'SAC'}, {'id': 27, 'conference': 'West', 'division': 'Southwest', 'city': 'San Antonio', 'name': 'Spurs', 'full_name': 'San Antonio Spurs', 'abbreviation': 'SAS'}, {'id': 28, 'conference': 'East', 'division': 'Atlantic', 'city': 'Toronto', 'name': 'Raptors', 'full_name': 'Toronto Raptors', 'abbreviation': 'TOR'}, {'id': 29, 'conference': 'West', 'division': 'Northwest', 'city': 'Utah', 'name': 'Jazz', 'full_name': 'Utah Jazz', 'abbreviation': 'UTA'}, {'id': 30, 'conference': 'East', 'division': 'Southeast', 'city': 'Washington', 'name': 'Wizards', 'full_name': 'Washington Wizards', 'abbreviation': 'WAS'}, {'id': 37, 'conference': '    ', 'division': '', 'city': '', 'name': 'Chicago Stags', 'full_name': 'Chicago Stags', 'abbreviation': 'CHS'}, {'id': 38, 'conference': '    ', 'division': '', 'city': '', 'name': 'St. Louis Bombers', 'full_name': 'St. Louis Bombers', 'abbreviation': 'BOM'}, {'id': 39, 'conference': '    ', 'division': '', 'city': '', 'name': 'Cleveland Rebels', 'full_name': 'Cleveland Rebels', 'abbreviation': 'CLR'}, {'id': 40, 'conference': '    ', 'division': '', 'city': '', 'name': 'Detroit Falcons', 'full_name': 'Detroit Falcons', 'abbreviation': 'DEF'}, {'id': 41, 'conference': '    ', 'division': '', 'city': '', 'name': 'Toronto Huskies', 'full_name': 'Toronto Huskies', 'abbreviation': 'HUS'}, {'id': 42, 'conference': '    ', 'division': '', 'city': '', 'name': 'Washington Capitols', 'full_name': 'Washington Capitols', 'abbreviation': 'WAS'}, {'id': 43, 'conference': '    ', 'division': '', 'city': '', 'name': 'Providence Steamrollers', 'full_name': 'Providence Steamrollers', 'abbreviation': 'PRO'}, {'id': 44, 'conference': '    ', 'division': '', 'city': '', 'name': 'Pittsburgh Ironmen', 'full_name': 'Pittsburgh Ironmen', 'abbreviation': 'PIT'}, {'id': 45, 'conference': '    ', 'division': '', 'city': '', 'name': 'Baltimore Bullets', 'full_name': 'Baltimore Bullets', 'abbreviation': 'BAL'}, {'id': 46, 'conference': '    ', 'division': '', 'city': '', 'name': 'Indianapolis Jets', 'full_name': 'Indianapolis Jets', 'abbreviation': 'JET'}, {'id': 47, 'conference': '    ', 'division': '', 'city': '', 'name': 'Anderson Packers', 'full_name': 'Anderson Packers', 'abbreviation': 'AND'}, {'id': 48, 'conference': '    ', 'division': '', 'city': '', 'name': 'Waterloo Hawks', 'full_name': 'Waterloo Hawks', 'abbreviation': 'WAT'}, {'id': 49, 'conference': '    ', 'division': '', 'city': '', 'name': 'Indianapolis Olympians', 'full_name': 'Indianapolis Olympians', 'abbreviation': 'INO'}, {'id': 50, 'conference': '    ', 'division': '', 'city': '', 'name': 'Denver Nuggets', 'full_name': 'Denver Nuggets', 'abbreviation': 'DN'}, {'id': 51, 'conference': '    ', 'division': '', 'city': '', 'name': 'Sheboygan Redskins', 'full_name': 'Sheboygan Redskins', 'abbreviation': 'SHE'}]}\n",
      "dict_keys(['data'])\n",
      "[{'id': 1, 'conference': 'East', 'division': 'Southeast', 'city': 'Atlanta', 'name': 'Hawks', 'full_name': 'Atlanta Hawks', 'abbreviation': 'ATL'}, {'id': 2, 'conference': 'East', 'division': 'Atlantic', 'city': 'Boston', 'name': 'Celtics', 'full_name': 'Boston Celtics', 'abbreviation': 'BOS'}, {'id': 3, 'conference': 'East', 'division': 'Atlantic', 'city': 'Brooklyn', 'name': 'Nets', 'full_name': 'Brooklyn Nets', 'abbreviation': 'BKN'}, {'id': 4, 'conference': 'East', 'division': 'Southeast', 'city': 'Charlotte', 'name': 'Hornets', 'full_name': 'Charlotte Hornets', 'abbreviation': 'CHA'}, {'id': 5, 'conference': 'East', 'division': 'Central', 'city': 'Chicago', 'name': 'Bulls', 'full_name': 'Chicago Bulls', 'abbreviation': 'CHI'}, {'id': 6, 'conference': 'East', 'division': 'Central', 'city': 'Cleveland', 'name': 'Cavaliers', 'full_name': 'Cleveland Cavaliers', 'abbreviation': 'CLE'}, {'id': 7, 'conference': 'West', 'division': 'Southwest', 'city': 'Dallas', 'name': 'Mavericks', 'full_name': 'Dallas Mavericks', 'abbreviation': 'DAL'}, {'id': 8, 'conference': 'West', 'division': 'Northwest', 'city': 'Denver', 'name': 'Nuggets', 'full_name': 'Denver Nuggets', 'abbreviation': 'DEN'}, {'id': 9, 'conference': 'East', 'division': 'Central', 'city': 'Detroit', 'name': 'Pistons', 'full_name': 'Detroit Pistons', 'abbreviation': 'DET'}, {'id': 10, 'conference': 'West', 'division': 'Pacific', 'city': 'Golden State', 'name': 'Warriors', 'full_name': 'Golden State Warriors', 'abbreviation': 'GSW'}, {'id': 11, 'conference': 'West', 'division': 'Southwest', 'city': 'Houston', 'name': 'Rockets', 'full_name': 'Houston Rockets', 'abbreviation': 'HOU'}, {'id': 12, 'conference': 'East', 'division': 'Central', 'city': 'Indiana', 'name': 'Pacers', 'full_name': 'Indiana Pacers', 'abbreviation': 'IND'}, {'id': 13, 'conference': 'West', 'division': 'Pacific', 'city': 'LA', 'name': 'Clippers', 'full_name': 'LA Clippers', 'abbreviation': 'LAC'}, {'id': 14, 'conference': 'West', 'division': 'Pacific', 'city': 'Los Angeles', 'name': 'Lakers', 'full_name': 'Los Angeles Lakers', 'abbreviation': 'LAL'}, {'id': 15, 'conference': 'West', 'division': 'Southwest', 'city': 'Memphis', 'name': 'Grizzlies', 'full_name': 'Memphis Grizzlies', 'abbreviation': 'MEM'}, {'id': 16, 'conference': 'East', 'division': 'Southeast', 'city': 'Miami', 'name': 'Heat', 'full_name': 'Miami Heat', 'abbreviation': 'MIA'}, {'id': 17, 'conference': 'East', 'division': 'Central', 'city': 'Milwaukee', 'name': 'Bucks', 'full_name': 'Milwaukee Bucks', 'abbreviation': 'MIL'}, {'id': 18, 'conference': 'West', 'division': 'Northwest', 'city': 'Minnesota', 'name': 'Timberwolves', 'full_name': 'Minnesota Timberwolves', 'abbreviation': 'MIN'}, {'id': 19, 'conference': 'West', 'division': 'Southwest', 'city': 'New Orleans', 'name': 'Pelicans', 'full_name': 'New Orleans Pelicans', 'abbreviation': 'NOP'}, {'id': 20, 'conference': 'East', 'division': 'Atlantic', 'city': 'New York', 'name': 'Knicks', 'full_name': 'New York Knicks', 'abbreviation': 'NYK'}, {'id': 21, 'conference': 'West', 'division': 'Northwest', 'city': 'Oklahoma City', 'name': 'Thunder', 'full_name': 'Oklahoma City Thunder', 'abbreviation': 'OKC'}, {'id': 22, 'conference': 'East', 'division': 'Southeast', 'city': 'Orlando', 'name': 'Magic', 'full_name': 'Orlando Magic', 'abbreviation': 'ORL'}, {'id': 23, 'conference': 'East', 'division': 'Atlantic', 'city': 'Philadelphia', 'name': '76ers', 'full_name': 'Philadelphia 76ers', 'abbreviation': 'PHI'}, {'id': 24, 'conference': 'West', 'division': 'Pacific', 'city': 'Phoenix', 'name': 'Suns', 'full_name': 'Phoenix Suns', 'abbreviation': 'PHX'}, {'id': 25, 'conference': 'West', 'division': 'Northwest', 'city': 'Portland', 'name': 'Trail Blazers', 'full_name': 'Portland Trail Blazers', 'abbreviation': 'POR'}, {'id': 26, 'conference': 'West', 'division': 'Pacific', 'city': 'Sacramento', 'name': 'Kings', 'full_name': 'Sacramento Kings', 'abbreviation': 'SAC'}, {'id': 27, 'conference': 'West', 'division': 'Southwest', 'city': 'San Antonio', 'name': 'Spurs', 'full_name': 'San Antonio Spurs', 'abbreviation': 'SAS'}, {'id': 28, 'conference': 'East', 'division': 'Atlantic', 'city': 'Toronto', 'name': 'Raptors', 'full_name': 'Toronto Raptors', 'abbreviation': 'TOR'}, {'id': 29, 'conference': 'West', 'division': 'Northwest', 'city': 'Utah', 'name': 'Jazz', 'full_name': 'Utah Jazz', 'abbreviation': 'UTA'}, {'id': 30, 'conference': 'East', 'division': 'Southeast', 'city': 'Washington', 'name': 'Wizards', 'full_name': 'Washington Wizards', 'abbreviation': 'WAS'}, {'id': 37, 'conference': '    ', 'division': '', 'city': '', 'name': 'Chicago Stags', 'full_name': 'Chicago Stags', 'abbreviation': 'CHS'}, {'id': 38, 'conference': '    ', 'division': '', 'city': '', 'name': 'St. Louis Bombers', 'full_name': 'St. Louis Bombers', 'abbreviation': 'BOM'}, {'id': 39, 'conference': '    ', 'division': '', 'city': '', 'name': 'Cleveland Rebels', 'full_name': 'Cleveland Rebels', 'abbreviation': 'CLR'}, {'id': 40, 'conference': '    ', 'division': '', 'city': '', 'name': 'Detroit Falcons', 'full_name': 'Detroit Falcons', 'abbreviation': 'DEF'}, {'id': 41, 'conference': '    ', 'division': '', 'city': '', 'name': 'Toronto Huskies', 'full_name': 'Toronto Huskies', 'abbreviation': 'HUS'}, {'id': 42, 'conference': '    ', 'division': '', 'city': '', 'name': 'Washington Capitols', 'full_name': 'Washington Capitols', 'abbreviation': 'WAS'}, {'id': 43, 'conference': '    ', 'division': '', 'city': '', 'name': 'Providence Steamrollers', 'full_name': 'Providence Steamrollers', 'abbreviation': 'PRO'}, {'id': 44, 'conference': '    ', 'division': '', 'city': '', 'name': 'Pittsburgh Ironmen', 'full_name': 'Pittsburgh Ironmen', 'abbreviation': 'PIT'}, {'id': 45, 'conference': '    ', 'division': '', 'city': '', 'name': 'Baltimore Bullets', 'full_name': 'Baltimore Bullets', 'abbreviation': 'BAL'}, {'id': 46, 'conference': '    ', 'division': '', 'city': '', 'name': 'Indianapolis Jets', 'full_name': 'Indianapolis Jets', 'abbreviation': 'JET'}, {'id': 47, 'conference': '    ', 'division': '', 'city': '', 'name': 'Anderson Packers', 'full_name': 'Anderson Packers', 'abbreviation': 'AND'}, {'id': 48, 'conference': '    ', 'division': '', 'city': '', 'name': 'Waterloo Hawks', 'full_name': 'Waterloo Hawks', 'abbreviation': 'WAT'}, {'id': 49, 'conference': '    ', 'division': '', 'city': '', 'name': 'Indianapolis Olympians', 'full_name': 'Indianapolis Olympians', 'abbreviation': 'INO'}, {'id': 50, 'conference': '    ', 'division': '', 'city': '', 'name': 'Denver Nuggets', 'full_name': 'Denver Nuggets', 'abbreviation': 'DN'}, {'id': 51, 'conference': '    ', 'division': '', 'city': '', 'name': 'Sheboygan Redskins', 'full_name': 'Sheboygan Redskins', 'abbreviation': 'SHE'}]\n",
      "{'id': 1, 'conference': 'East', 'division': 'Southeast', 'city': 'Atlanta', 'name': 'Hawks', 'full_name': 'Atlanta Hawks', 'abbreviation': 'ATL'}\n",
      "dict_keys(['id', 'conference', 'division', 'city', 'name', 'full_name', 'abbreviation'])\n"
     ]
    }
   ],
   "source": [
    "\n",
    "import requests\n",
    "import pandas as pd\n",
    "from dotenv import load_dotenv\n",
    "import os\n",
    "# Cargar variables de entorno desde el archivo .env\n",
    "load_dotenv()\n",
    "# Obtener la API Key desde las variables de entorno\n",
    "api_key = os.getenv(\"API_KEY\")\n",
    "# Información de jugadores\n",
    "jugadores = {\"nombres\": [], \"apellidos\": [], \"equipo\": []}\n",
    "for i in range(0, 200, 26):\n",
    "    params = {\"cursor\": i}\n",
    "    res_jugadores = requests.get(\"http://api.balldontlie.io/v1/players\",params=params,headers={\"Authorization\": api_key},)\n",
    "    res_jugadores = res_jugadores.json()\n",
    "    for jugador in res_jugadores[\"data\"]:\n",
    "        jugadores[\"nombres\"].append(jugador[\"first_name\"])\n",
    "        jugadores[\"apellidos\"].append(jugador[\"last_name\"])\n",
    "        jugadores[\"equipo\"].append(jugador[\"team\"][\"full_name\"])\n",
    "# Crear el DataFrame\n",
    "df_jugadores = pd.DataFrame(jugadores)\n",
    "print(df_jugadores)\n",
    "\n",
    "\n",
    "\n",
    "\n",
    "\"\"\" \n",
    "\n",
    "import re\n",
    "import pandas as pd\n",
    "import requests\n",
    "\n",
    "\n",
    "\n",
    "pd.set_option('display.max_columns', None) # Para poder visualizar todas las columnas\n",
    "\n",
    "API_KEY = \"127708d4-cd8f-4bf7-89c5-1f6260459ad7\"\n",
    "URL_JUGADORES = \"https://api.balldontlie.io/v1/players\"\n",
    "\n",
    "# Encabezados de la solicitud, incluyendo la clave API para autorización\n",
    "headers = {\n",
    "    'Authorization': API_KEY\n",
    "}\n",
    "\n",
    "# Empiezo con un partido\n",
    "\n",
    "url = \"https://api.balldontlie.io/v1/teams\"\n",
    "respuesta = requests.get(url, headers=headers)\n",
    "print(respuesta.status_code)\n",
    "datos_json = respuesta.json()\n",
    "print(datos_json)\n",
    "print(datos_json.keys())\n",
    "print(datos_json['data'])\n",
    "# Tenemos una lista de diccionarios. Evaluamos el primero\n",
    "print(datos_json['data'][0])\n",
    "print(datos_json['data'][0].keys())\n",
    "\n",
    "\n",
    "\n",
    "\n",
    "\n",
    "\"\"\"\n"
   ]
  },
  {
   "cell_type": "code",
   "execution_count": 15,
   "metadata": {},
   "outputs": [
    {
     "name": "stdout",
     "output_type": "stream",
     "text": [
      "200\n",
      "{'data': [], 'meta': {'next_cursor': 874105, 'per_page': 25}}\n",
      "dict_keys(['data', 'meta'])\n",
      "[]\n"
     ]
    }
   ],
   "source": [
    "import re\n",
    "import pandas as pd\n",
    "import requests\n",
    "\n",
    "pd.set_option('display.max_columns', None) # Para poder visualizar todas las columnas\n",
    "\n",
    "API_KEY = \"127708d4-cd8f-4bf7-89c5-1f6260459ad7\"\n",
    "URL_JUGADORES = \"https://api.balldontlie.io/v1/players\"\n",
    "\n",
    "# Encabezados de la solicitud, incluyendo la clave API para autorización\n",
    "headers = {\n",
    "    'Authorization': API_KEY\n",
    "}\n",
    "\n",
    "# Empiezo con un partido\n",
    "\n",
    "url = \"https://api.balldontlie.io/v1/games\"\n",
    "respuesta = requests.get(url, headers=headers)\n",
    "print(respuesta.status_code)\n",
    "datos_json = respuesta.json()\n",
    "print(datos_json)\n",
    "print(datos_json.keys())\n",
    "print(datos_json['data'])\n",
    "\n"
   ]
  }
 ],
 "metadata": {
  "kernelspec": {
   "display_name": "base",
   "language": "python",
   "name": "python3"
  },
  "language_info": {
   "codemirror_mode": {
    "name": "ipython",
    "version": 3
   },
   "file_extension": ".py",
   "mimetype": "text/x-python",
   "name": "python",
   "nbconvert_exporter": "python",
   "pygments_lexer": "ipython3",
   "version": "3.12.4"
  }
 },
 "nbformat": 4,
 "nbformat_minor": 2
}
