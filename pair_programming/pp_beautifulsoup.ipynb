{
 "cells": [
  {
   "cell_type": "markdown",
   "metadata": {},
   "source": [
    "Enunciado: Escribe una función llamada scrape_coches_ocasion que acepta una URL como argumento y devuelve un DataFrame de pandas con información sobre coches de ocasión encontrados en la página web especificada. La función realizará las siguientes tareas:"
   ]
  },
  {
   "cell_type": "markdown",
   "metadata": {},
   "source": [
    "1. Realizará una solicitud HTTP GET a la siguiente url."
   ]
  },
  {
   "cell_type": "markdown",
   "metadata": {},
   "source": [
    "2. Comprobará el código de estado de la respuesta. Si el código no es 200 (OK), imprimirá un mensaje de error y retornará None."
   ]
  },
  {
   "cell_type": "markdown",
   "metadata": {},
   "source": [
    "3. Extraerá los nombres de los coches, los precios rebajados, los precios originales y la información de los kilómetros recorridos de la página."
   ]
  },
  {
   "cell_type": "markdown",
   "metadata": {},
   "source": [
    "4. Organizará los datos extraídos en un DataFrame de pandas con las siguientes columnas:\n",
    "\n",
    "\"coche\": Nombres de los coches.\n",
    "\n",
    "\"precio_rebajado\": Precios rebajados.\n",
    "\n",
    "\"precio_original\": Precios originales.\n",
    "\n",
    "\"km\": Kilómetros recorridos."
   ]
  },
  {
   "cell_type": "markdown",
   "metadata": {},
   "source": [
    "5. Retornará el DataFrame resultante."
   ]
  },
  {
   "cell_type": "markdown",
   "metadata": {},
   "source": [
    "6. Una vez extraida toda la información deberéis almacenar toda la información en un DataFrame. El DataFrame debe tener un aspecto parecido a este:\n",
    "(mirar la tabla en la pag web del book)"
   ]
  },
  {
   "cell_type": "code",
   "execution_count": 27,
   "metadata": {},
   "outputs": [
    {
     "name": "stdout",
     "output_type": "stream",
     "text": [
      "Nuestra lista de nombres de coches queda así:\n",
      " ['Seat León', 'Peugeot 207', 'Alfa Romeo Stelvio', 'Opel Insignia', 'Volkswagen Touran', 'Suzuki Swift', 'Peugeot Traveller', 'Hyundai i10', 'BMW Serie 2', 'Renault Mégane', 'Volkswagen Polo', 'Peugeot 208', 'Peugeot Rifter', 'Toyota Prius', 'Nissan X-TRAIL', 'Nissan JUKE', 'Audi A1', 'Seat Ibiza', 'Citroën Jumpy', 'Lexus CT']\n",
      "len(lista_nombres_coches) = 20\n"
     ]
    }
   ],
   "source": [
    "from bs4 import BeautifulSoup\n",
    "import requests\n",
    "import pandas as pd\n",
    "import re\n",
    "\n",
    "url = \"https://www.ocasionplus.com/coches-ocasion?v2&orderBy=morePopular\"\n",
    "respuesta_coches = requests.get(url)\n",
    "if respuesta_coches.status_code != 200:\n",
    "    print(f\"Error en la llamada. Motivo {respuesta_coches.reason}\")\n",
    "        \n",
    "else: \n",
    "    # La llamada ha sido correcta. Me dispongo a extraer los siguientes datos: nombres de los coches, precios rebajados, precios originales y kilómetros recorridos\n",
    "\n",
    "    lista_nombres_coches = []\n",
    "\n",
    "    sopa_coches = BeautifulSoup(respuesta_coches.content, \"html.parser\")\n",
    "    # print(sopa_coches.prettify())\n",
    "    lista_nombres = sopa_coches.find_all(\"span\", {\"class\": \"cardVehicle_spot__e6YZx\"})\n",
    "    for coche in lista_nombres:\n",
    "        lista_nombres_coches.append(coche.get_text())\n",
    "\n",
    "    # Vamos a usar regex para eliminar unos precios que se nos han colado en nuestra lista de nombres\n",
    "    patron1 = r\"€\"\n",
    "    for cadena in lista_nombres_coches:\n",
    "        if re.findall(patron1, cadena):\n",
    "            # Hemos encontrado una cadena que corresponde a un precio. La sacamos de la lista.\n",
    "            lista_nombres_coches.remove(cadena)\n",
    "        else:\n",
    "            pass\n",
    "    \n",
    "    print(f\"Nuestra lista de nombres de coches queda así:\\n {lista_nombres_coches}\")\n",
    "    print(f\"len(lista_nombres_coches) = {len(lista_nombres_coches)}\")\n"
   ]
  },
  {
   "cell_type": "code",
   "execution_count": 28,
   "metadata": {},
   "outputs": [
    {
     "name": "stdout",
     "output_type": "stream",
     "text": [
      "Primera extracción de datos. Los Precios rebajados son:\n",
      "\n",
      "['18.172€', '4.900€', '31.124€', '6.900€', '21.363€', '22.636€', '24.090€', '12.909€', '37.091€', '13.627€', '12.600€', '14.990€', '18.909€', '11.800€', '19.490€', '16.545€', '14.150€', '8.500€', '27.181€', '18.800€']\n",
      "Tras limpiar los datos, la lista queda así:\n",
      "\n",
      " [18172, 4900, 31124, 6900, 21363, 22636, 24090, 12909, 37091, 13627, 12600, 14990, 18909, 11800, 19490, 16545, 14150, 8500, 27181, 18800]\n",
      "len(lista_nombres_coches) = 20\n"
     ]
    }
   ],
   "source": [
    "# Precios rebajados\n",
    "\n",
    "lista_precios_rebajados_bruto = sopa_coches.find_all(\"span\", {\"class\":\"cardVehicle_finance__SG6JV\"})\n",
    "\n",
    "lista_precios_rebajados_limpios = []\n",
    "\n",
    "for elemento in lista_precios_rebajados_bruto:\n",
    "    cadena = elemento.getText()\n",
    "    patron1 = r\"€\"\n",
    "\n",
    "    # Si la cadena tiene un patron de precio, la metemos en nuestra lista_precios_rebajados_limpios. Si no, la ignoramos.\n",
    "    if re.findall(patron1, cadena): \n",
    "        lista_precios_rebajados_limpios.append(cadena)\n",
    "\n",
    "    else: \n",
    "        pass\n",
    "\n",
    "print(f\"Primera extracción de datos. Los Precios rebajados son:\\n\\n{lista_precios_rebajados_limpios}\")\n",
    "\n",
    "# Hemos conseguidos los precios rebajados en nuestra lista. Pero podemos limpiarlos mejor:\n",
    "# Podemos quitar el euro y pasar a float\n",
    "\n",
    "for indice, cadena in enumerate (lista_precios_rebajados_limpios):\n",
    "    # print(indice, cadena)\n",
    "    lista_precios_rebajados_limpios[indice] = int(cadena.replace(\"€\",\"\").replace(\".\", \"\"))\n",
    "\n",
    "    # float(cadena.replace(\"€\", \"\"))\n",
    "    # cadena = float(cadena.replace(\"€\", \"\"))\n",
    "\n",
    "print(f\"Tras limpiar los datos, la lista queda así:\\n\\n {lista_precios_rebajados_limpios}\")\n",
    "print(f\"len(lista_nombres_coches) = {len(lista_precios_rebajados_limpios)}\")\n",
    "\n"
   ]
  },
  {
   "cell_type": "code",
   "execution_count": null,
   "metadata": {},
   "outputs": [],
   "source": [
    "# Lo hicimos en list comprehension y nos funcionó\n",
    "\n",
    "# lista_precios_rebajados_limpios2 = [float(cadena.replace(\"€\", \"\")) for cadena in lista_precios_rebajados_limpios]\n",
    "# print(f\"Segundo for: {lista_precios_rebajados_limpios2}\")"
   ]
  },
  {
   "cell_type": "code",
   "execution_count": 29,
   "metadata": {},
   "outputs": [
    {
     "name": "stdout",
     "output_type": "stream",
     "text": [
      "Precios rebajados limpios:\n",
      "\n",
      "['19.990€', '34.236€', '23.500€', '24.900€', '26.500€', '14.200€', '40.800€', '14.900€', '16.490€', '20.800€', '18.200€', '29.900€']\n",
      "Tras limpiar los datos, la lista queda así:: [19990, 34236, 23500, 24900, 26500, 14200, 40800, 14900, 16490, 20800, 18200, 29900]\n",
      "len(lista_nombres_coches) = 12\n"
     ]
    }
   ],
   "source": [
    "# cardVehicle_spot__e6YZx\n",
    "\n",
    "# Precios original\n",
    "\n",
    "lista_precios_originales_bruto = sopa_coches.find_all(\"span\", {\"class\":\"cardVehicle_spot__e6YZx\"})\n",
    "\n",
    "lista_precios_originales_limpios = []\n",
    "\n",
    "for elemento in lista_precios_originales_bruto:\n",
    "    cadena = elemento.getText()\n",
    "    patron1 = r\"€\"\n",
    "    # Si la cadena tiene un patron de precio, la metemos en nuestra lista_precios_originales_limpios.\n",
    "    if re.findall(patron1, cadena): \n",
    "        lista_precios_originales_limpios.append(cadena)\n",
    "\n",
    "print(f\"Precios rebajados limpios:\\n\\n{lista_precios_originales_limpios}\")\n",
    "\n",
    "# Hemos conseguidos los precios rebajados en nuestra lista. Pero podemos limpiarlos mejor:\n",
    "# Podemos quitar el euro y pasar a float\n",
    "\n",
    "for indice, cadena in enumerate (lista_precios_originales_limpios):\n",
    "    # print(indice, cadena)\n",
    "    lista_precios_originales_limpios[indice] = int(cadena.replace(\"€\",\"\").replace(\".\", \"\"))\n",
    "\n",
    "    # float(cadena.replace(\"€\", \"\"))\n",
    "    # cadena = float(cadena.replace(\"€\", \"\"))\n",
    "\n",
    "print(f\"Tras limpiar los datos, la lista queda así:: {lista_precios_originales_limpios}\")\n",
    "\n",
    "print(f\"len(lista_nombres_coches) = {len(lista_precios_originales_limpios)}\")\n",
    "\n",
    "\n",
    "\n"
   ]
  },
  {
   "cell_type": "code",
   "execution_count": 30,
   "metadata": {},
   "outputs": [
    {
     "name": "stdout",
     "output_type": "stream",
     "text": [
      "['12.323 Km', '108.886 Km', '50.807 Km', '152.287 Km', '44.305 Km', '27.330 Km', '80.251 Km', '14.924 Km', '51.112 Km', '51.473 Km', '69.647 Km', '47.360 Km', '64.720 Km', '146.986 Km', '45.140 Km', '43.834 Km', '132.020 Km', '92.933 Km', '5.097 Km', '46.930 Km']\n",
      "[12323, 108886, 50807, 152287, 44305, 27330, 80251, 14924, 51112, 51473, 69647, 47360, 64720, 146986, 45140, 43834, 132020, 92933, 5097, 46930]\n",
      "len(lista_nombres_coches) = 20\n"
     ]
    }
   ],
   "source": [
    "# Nos queda extraer los kilómetros recorridos.\n",
    "\n",
    "lista_km = []\n",
    "lista_km_limpia = []\n",
    "\n",
    "elementos_km = sopa_coches.find_all(\"span\", {\"class\": \"characteristics_elements__Mb1S_\"})\n",
    "for elemento in elementos_km:\n",
    "    cadena = elemento.text\n",
    "    # Este elemento me introduce elementos que no son kilómetros. Mediante regex, filtro los que no necesito.\n",
    "    patron1 = r\"Km\"\n",
    "    if re.findall(patron1, cadena): \n",
    "        lista_km.append(cadena)\n",
    "\n",
    "# Termino de limpiar mis datos.\n",
    "for s in lista_km:\n",
    "    lista_km_limpia.append(int(s.replace(\" Km\", \"\").replace(\".\", \"\")))\n",
    "        \n",
    "print(lista_km)\n",
    "print(lista_km_limpia)\n",
    "\n",
    "print(f\"len(lista_nombres_coches) = {len(lista_km_limpia)}\")\n",
    "\n"
   ]
  },
  {
   "cell_type": "code",
   "execution_count": null,
   "metadata": {},
   "outputs": [],
   "source": [
    "diccionario_coches = {'coche': lista_nombres_coches, 'precio original': lista_precios_originales_limpios, 'precio rebajado': lista_precios_rebajados_limpios, 'km recorridos': lista_km_limpia}\n",
    "\n",
    "df = pd.DataFrame(diccionario_coches)\n"
   ]
  }
 ],
 "metadata": {
  "kernelspec": {
   "display_name": "base",
   "language": "python",
   "name": "python3"
  },
  "language_info": {
   "codemirror_mode": {
    "name": "ipython",
    "version": 3
   },
   "file_extension": ".py",
   "mimetype": "text/x-python",
   "name": "python",
   "nbconvert_exporter": "python",
   "pygments_lexer": "ipython3",
   "version": "3.12.4"
  }
 },
 "nbformat": 4,
 "nbformat_minor": 2
}
